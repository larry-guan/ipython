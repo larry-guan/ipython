{
 "cells": [
  {
   "cell_type": "code",
   "execution_count": 1,
   "metadata": {
    "collapsed": true
   },
   "outputs": [],
   "source": [
    "import json\n",
    "path = '/Users/lguan/Documents/data/pybook/pydata-book/ch02/usagov_bitly_data2012-03-16-1331923249.txt'\n",
    "records = [json.loads(line) for line in open(path)]"
   ]
  },
  {
   "cell_type": "code",
   "execution_count": 8,
   "metadata": {
    "collapsed": false
   },
   "outputs": [
    {
     "data": {
      "text/plain": [
       "[u'America/New_York',\n",
       " u'America/Denver',\n",
       " u'America/New_York',\n",
       " u'America/Sao_Paulo',\n",
       " u'America/New_York',\n",
       " u'America/New_York',\n",
       " u'Europe/Warsaw',\n",
       " u'',\n",
       " u'',\n",
       " u'']"
      ]
     },
     "execution_count": 8,
     "metadata": {},
     "output_type": "execute_result"
    }
   ],
   "source": [
    "time_zones = [rec['tz'] for rec in records if 'tz' in rec]\n",
    "time_zones[:10]"
   ]
  },
  {
   "cell_type": "code",
   "execution_count": 9,
   "metadata": {
    "collapsed": false
   },
   "outputs": [
    {
     "data": {
      "text/plain": [
       "{u'a': u'GoogleMaps/RochesterNY',\n",
       " u'c': u'US',\n",
       " u'cy': u'Provo',\n",
       " u'g': u'mwszkS',\n",
       " u'gr': u'UT',\n",
       " u'h': u'mwszkS',\n",
       " u'hc': 1308262393,\n",
       " u'hh': u'j.mp',\n",
       " u'l': u'bitly',\n",
       " u'll': [40.218102, -111.613297],\n",
       " u'nk': 0,\n",
       " u'r': u'http://www.AwareMap.com/',\n",
       " u't': 1331923249,\n",
       " u'tz': u'America/Denver',\n",
       " u'u': u'http://www.monroecounty.gov/etc/911/rss.php'}"
      ]
     },
     "execution_count": 9,
     "metadata": {},
     "output_type": "execute_result"
    }
   ],
   "source": [
    "records[1]"
   ]
  },
  {
   "cell_type": "code",
   "execution_count": 19,
   "metadata": {
    "collapsed": false
   },
   "outputs": [
    {
     "data": {
      "text/plain": [
       "America/New_York       1251\n",
       "Unknown                 521\n",
       "America/Chicago         400\n",
       "America/Los_Angeles     382\n",
       "America/Denver          191\n",
       "missing                 120\n",
       "Europe/London            74\n",
       "Asia/Tokyo               37\n",
       "Pacific/Honolulu         36\n",
       "Europe/Madrid            35\n",
       "dtype: int64"
      ]
     },
     "execution_count": 19,
     "metadata": {},
     "output_type": "execute_result"
    }
   ],
   "source": [
    "# top time zones which appears most\n",
    "import pandas as pd\n",
    "from pandas import DataFrame, Series\n",
    "frame = pd.DataFrame(records)\n",
    "clean_tz = frame['tz'].fillna('missing')\n",
    "type(clean_tz)\n",
    "clean_tz[clean_tz == ''] = 'Unknown'\n",
    "tz_counts = clean_tz.value_counts()\n",
    "tz_counts[:10]"
   ]
  },
  {
   "cell_type": "code",
   "execution_count": 30,
   "metadata": {
    "collapsed": false
   },
   "outputs": [
    {
     "name": "stdout",
     "output_type": "stream",
     "text": [
      "Populating the interactive namespace from numpy and matplotlib\n"
     ]
    },
    {
     "name": "stderr",
     "output_type": "stream",
     "text": [
      "WARNING: pylab import has clobbered these variables: ['rec']\n",
      "`%matplotlib` prevents importing * from pylab and numpy\n"
     ]
    },
    {
     "data": {
      "text/plain": [
       "<matplotlib.axes._subplots.AxesSubplot at 0x1107de4d0>"
      ]
     },
     "execution_count": 30,
     "metadata": {},
     "output_type": "execute_result"
    },
    {
     "data": {
      "image/png": "[encoded data removed]",
      "text/plain": [
       "<matplotlib.figure.Figure at 0x111cf9e50>"
      ]
     },
     "metadata": {},
     "output_type": "display_data"
    }
   ],
   "source": [
    "%pylab inline\n",
    "tz_counts[:10].plot(kind = 'barh', rot = 0)"
   ]
  },
  {
   "cell_type": "code",
   "execution_count": 32,
   "metadata": {
    "collapsed": false
   },
   "outputs": [
    {
     "data": {
      "text/plain": [
       "-0.4846860437946649"
      ]
     },
     "execution_count": 32,
     "metadata": {},
     "output_type": "execute_result"
    }
   ],
   "source": [
    "randn()"
   ]
  },
  {
   "cell_type": "code",
   "execution_count": 44,
   "metadata": {
    "collapsed": false
   },
   "outputs": [
    {
     "name": "stdout",
     "output_type": "stream",
     "text": [
      "{0: array([-0.26708193,  0.86137914,  0.65725212, -1.48848052]), 1: array([-0.24077324,  0.83046579,  0.74746797,  0.19024159]), 2: array([ 1.09521182,  0.48188945, -0.84364636, -1.56585537]), 3: array([ 1.75678456,  0.62309627,  1.54087205,  0.93369952]), 4: array([-0.19928525, -0.42647104, -0.93032797, -0.42169005]), 5: array([ 1.63284432, -1.80672141,  0.2845438 , -0.09406715]), 6: array([-1.06267944, -0.22463477,  0.0804328 ,  1.15879811]), 7: array([-1.88248562,  0.31307064,  1.28801911, -0.63058396]), 8: array([ 0.09873531, -0.36109508, -0.3334764 ,  2.0910517 ]), 9: array([-0.66437937, -0.16593496, -0.07142885,  0.16857297]), 10: array([ 0.47194335,  0.21501146, -0.21219607,  1.61688014]), 11: array([ 0.0948591 ,  0.31681808, -0.14528389, -1.51306324]), 12: array([ 0.53689907, -2.16839875,  0.16805835, -0.1292619 ]), 13: array([ 2.44240778,  1.09167895, -0.59374039,  1.22972448]), 14: array([-0.35049242,  1.89402427,  0.04217716, -1.00366877]), 15: array([ 0.01116211, -1.8878683 , -0.89363769, -0.16290628]), 16: array([-1.22735599, -0.93284076, -0.01672113,  0.43141266]), 17: array([-2.15545712, -1.25066822, -0.17091174,  0.54794192]), 18: array([ 0.96074436,  0.51535952, -0.48500611, -1.15606135]), 19: array([-2.56573011,  0.37387815,  0.39153518,  1.321638  ])}\n"
     ]
    }
   ],
   "source": [
    "{i : randn(4) for i in range(20)}"
   ]
  },
  {
   "cell_type": "code",
   "execution_count": 47,
   "metadata": {
    "collapsed": true
   },
   "outputs": [],
   "source": [
    "records?"
   ]
  },
  {
   "cell_type": "code",
   "execution_count": 57,
   "metadata": {
    "collapsed": false
   },
   "outputs": [
    {
     "data": {
      "text/plain": [
       "array([ 0,  1,  2,  3,  4,  5,  6,  7,  8,  9, 10, 11, 12, 13, 14])"
      ]
     },
     "execution_count": 57,
     "metadata": {},
     "output_type": "execute_result"
    }
   ],
   "source": [
    "arr = np.arange(15)\n",
    "arr"
   ]
  },
  {
   "cell_type": "code",
   "execution_count": 58,
   "metadata": {
    "collapsed": false
   },
   "outputs": [
    {
     "data": {
      "text/plain": [
       "array([  0.,   1.,   2.,   3.,   4.,   5.,   6.,   7.,   8.,   9.,  10.,\n",
       "        11.,  12.,  13.,  14.])"
      ]
     },
     "execution_count": 58,
     "metadata": {},
     "output_type": "execute_result"
    }
   ],
   "source": [
    "arr.astype(np.float64)"
   ]
  },
  {
   "cell_type": "code",
   "execution_count": null,
   "metadata": {
    "collapsed": true
   },
   "outputs": [],
   "source": []
  }
 ],
 "metadata": {
  "kernelspec": {
   "display_name": "Python 2",
   "language": "python",
   "name": "python2"
  },
  "language_info": {
   "codemirror_mode": {
    "name": "ipython",
    "version": 2
   },
   "file_extension": ".py",
   "mimetype": "text/x-python",
   "name": "python",
   "nbconvert_exporter": "python",
   "pygments_lexer": "ipython2",
   "version": "2.7.9"
  }
 },
 "nbformat": 4,
 "nbformat_minor": 0
}
