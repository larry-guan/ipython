{
 "cells": [
  {
   "cell_type": "code",
   "execution_count": 198,
   "metadata": {
    "collapsed": false
   },
   "outputs": [
    {
     "name": "stdout",
     "output_type": "stream",
     "text": [
      "Populating the interactive namespace from numpy and matplotlib\n"
     ]
    },
    {
     "data": {
      "text/plain": [
       "u'184.105.139.67,161,17,50758,50733,02:23:17,07:25:53'"
      ]
     },
     "execution_count": 198,
     "metadata": {},
     "output_type": "execute_result"
    }
   ],
   "source": [
    "%pylab inline\n",
    "import scipy.stats\n",
    "dshield = sc.textFile(\"/Users/lguan/Documents/data/dshield/daily/daily_sources20150523\").filter(lambda s: not s.startswith('#'))\n",
    "dshield.first()"
   ]
  },
  {
   "cell_type": "code",
   "execution_count": 305,
   "metadata": {
    "collapsed": false
   },
   "outputs": [],
   "source": [
    "# \n",
    "attracks = array(dshield.map(lambda s: (s.split(',')[0], 1)) \\\n",
    "                 .reduceByKey(lambda x, y: x + y) \\\n",
    "                 .filter(lambda x: x[1] > 20) \\\n",
    "                 .map(lambda x: x[1]).collect())"
   ]
  },
  {
   "cell_type": "code",
   "execution_count": 306,
   "metadata": {
    "collapsed": false
   },
   "outputs": [
    {
     "data": {
      "image/png": "[encoded data removed]",
      "text/plain": [
       "<matplotlib.figure.Figure at 0x1e052b590>"
      ]
     },
     "metadata": {},
     "output_type": "display_data"
    }
   ],
   "source": [
    "counts, bins, patches = plt.hist(reports, bins = 30, range=[min(attracks), max(attracks)])\n",
    "plt.title('Reports Distribution')\n",
    "plt.xlabel('# of Reports')\n",
    "plt.ylabel('Counts')\n",
    "plt.show()"
   ]
  },
  {
   "cell_type": "code",
   "execution_count": 304,
   "metadata": {
    "collapsed": false
   },
   "outputs": [
    {
     "name": "stdout",
     "output_type": "stream",
     "text": [
      "1 0.0\n",
      "2 36.1141412138\n",
      "3 77.1097778659\n",
      "4 84.3613645379\n",
      "5 87.9412931376\n",
      "6 90.1039600688\n",
      "7 91.5790691525\n",
      "8 92.523634801\n",
      "9 93.2268940896\n",
      "10 93.7599166997\n",
      "11 94.178897263\n",
      "12 94.5210234034\n",
      "13 94.8474481026\n",
      "14 95.1143726035\n",
      "15 95.3350191723\n",
      "16 95.5399642999\n",
      "17 95.7382982943\n",
      "18 95.9192780643\n",
      "19 96.0779452598\n",
      "20 96.2275221473\n",
      "21 96.3630503768\n",
      "22 96.4688285072\n",
      "23 96.5696482877\n",
      "24 96.6712944599\n",
      "25 96.7597183657\n",
      "26 96.856406188\n",
      "27 96.9382189607\n",
      "28 96.9952399841\n",
      "29 97.0638304905\n",
      "30 97.1349001719\n",
      "31 97.1910948036\n",
      "32 97.2406783023\n",
      "33 97.2935673674\n",
      "34 97.3547203491\n",
      "35 97.4109149808\n",
      "36 97.4588456962\n",
      "37 97.5076028031\n",
      "38 97.5497487769\n",
      "39 97.5885891842\n",
      "40 97.6290823747\n",
      "41 97.6712283485\n",
      "42 97.7059367976\n",
      "43 97.7323813302\n",
      "44 97.7670897792\n",
      "45 97.8059301864\n",
      "46 97.8406386355\n",
      "47 97.8736943012\n",
      "48 97.9059235753\n",
      "49 97.9282361497\n",
      "50 97.9563334656\n"
     ]
    }
   ],
   "source": [
    "# stats.percentileofscore(attracks, 2, 'rank')\n",
    "import scipy.stats as stats\n",
    "for i in  range(50):\n",
    "    index = i + 1\n",
    "    value = i + 2\n",
    "    print index, stats.percentileofscore(attracks, index, 'rank')"
   ]
  },
  {
   "cell_type": "code",
   "execution_count": null,
   "metadata": {
    "collapsed": true
   },
   "outputs": [],
   "source": []
  },
  {
   "cell_type": "code",
   "execution_count": null,
   "metadata": {
    "collapsed": true
   },
   "outputs": [],
   "source": []
  },
  {
   "cell_type": "code",
   "execution_count": 287,
   "metadata": {
    "collapsed": false
   },
   "outputs": [],
   "source": [
    "reports = array(dshield.map(lambda s: (s.split(',')[0], int(s.split(',')[3]))) \\\n",
    "                .reduceByKey(lambda x, y : x + y).map(lambda x: int(x[1])) \\\n",
    "                .filter(lambda x : x > 9) \\\n",
    "                .collect())"
   ]
  },
  {
   "cell_type": "code",
   "execution_count": 288,
   "metadata": {
    "collapsed": false
   },
   "outputs": [
    {
     "data": {
      "image/png": "[encoded data removed]",
      "text/plain": [
       "<matplotlib.figure.Figure at 0x1e2c94050>"
      ]
     },
     "metadata": {},
     "output_type": "display_data"
    }
   ],
   "source": [
    "# max(reports)\n",
    "# reports.size\n",
    "counts, bins, patches = plt.hist(reports, bins = 30, range=[min(reports), max(reports)])\n",
    "plt.title('Reports Distribution')\n",
    "plt.xlabel('# of Reports')\n",
    "plt.ylabel('Counts')\n",
    "plt.show()"
   ]
  },
  {
   "cell_type": "code",
   "execution_count": 250,
   "metadata": {
    "collapsed": false
   },
   "outputs": [
    {
     "data": {
      "text/plain": [
       "1"
      ]
     },
     "execution_count": 250,
     "metadata": {},
     "output_type": "execute_result"
    }
   ],
   "source": [
    "min(reports)"
   ]
  },
  {
   "cell_type": "code",
   "execution_count": 256,
   "metadata": {
    "collapsed": false
   },
   "outputs": [
    {
     "name": "stdout",
     "output_type": "stream",
     "text": [
      "1, 1.0, 1.0, 4.0, 10.0, 16.0, 101.0, 154631\n"
     ]
    }
   ],
   "source": [
    "print('{}, {}, {}, {}, {}, {}, {}, {}'.format(min(reports), np.percentile(reports, 25), np.percentile(reports, 50), np.percentile(reports, 75), np.percentile(reports, 90), np.percentile(reports, 95), np.percentile(reports, 99), max(reports)))"
   ]
  },
  {
   "cell_type": "code",
   "execution_count": 290,
   "metadata": {
    "collapsed": false
   },
   "outputs": [
    {
     "name": "stdout",
     "output_type": "stream",
     "text": [
      "11 27.4901896065\n",
      "12 35.5136245278\n",
      "13 41.7977775333\n",
      "14 47.1338981186\n",
      "15 51.8419701471\n",
      "16 55.728536326\n",
      "17 59.270363443\n",
      "18 62.7727656141\n",
      "19 65.5811053655\n",
      "20 67.6990501339\n",
      "21 69.5391865625\n",
      "22 71.1005977922\n",
      "23 72.5409836066\n",
      "24 73.862177724\n",
      "25 74.9559907581\n",
      "26 75.9773719148\n",
      "27 76.9409909414\n",
      "28 77.7432427476\n",
      "29 78.4895661422\n",
      "30 79.2019657461\n",
      "31 79.7539149888\n",
      "32 80.2627718488\n",
      "33 80.8147210914\n",
      "34 81.3107419225\n",
      "35 81.8012615983\n",
      "36 82.2963655701\n",
      "37 82.7309568343\n",
      "38 83.1380423222\n",
      "39 83.5130377379\n",
      "40 83.8348553196\n",
      "41 84.1355851395\n",
      "42 84.4308138042\n",
      "43 84.7205413137\n",
      "44 85.0194374152\n",
      "45 85.2807422892\n",
      "46 85.4980379213\n",
      "47 85.7272527231\n",
      "48 85.9619686801\n",
      "49 86.1801811714\n",
      "50 86.3791396193\n",
      "51 86.5615946015\n",
      "52 86.7202112444\n",
      "53 86.8623244215\n",
      "54 87.0145230498\n",
      "55 87.1593868046\n",
      "56 87.2776616423\n",
      "57 87.39593648\n",
      "58 87.519712473\n",
      "59 87.6425716067\n",
      "60 87.7608464444\n"
     ]
    }
   ],
   "source": [
    "import scipy.stats as stats\n",
    "for i in  range(50):\n",
    "    index = i + 1 + 10\n",
    "    value = i + 2 + 10\n",
    "    print index, stats.percentileofscore(reports, value, 'rank')"
   ]
  },
  {
   "cell_type": "markdown",
   "metadata": {},
   "source": [
    "##### "
   ]
  },
  {
   "cell_type": "code",
   "execution_count": 29,
   "metadata": {
    "collapsed": false
   },
   "outputs": [
    {
     "data": {
      "text/plain": [
       "0"
      ]
     },
     "execution_count": 29,
     "metadata": {},
     "output_type": "execute_result"
    }
   ],
   "source": [
    "targets = array(dshield.filter(lambda s: not s.startswith('#')).map(lambda s: int(s.split(',')[4])).collect())\n",
    "targets.size\n",
    "plt.hist(targets)\n",
    "plt.title('targets distribution')\n",
    "plt.xlabel('# of targets')\n",
    "plt.ylabel('counts')\n",
    "plt.show()"
   ]
  },
  {
   "cell_type": "code",
   "execution_count": null,
   "metadata": {
    "collapsed": false
   },
   "outputs": [],
   "source": []
  },
  {
   "cell_type": "code",
   "execution_count": 160,
   "metadata": {
    "collapsed": false
   },
   "outputs": [
    {
     "data": {
      "text/plain": [
       "99.919849884632995"
      ]
     },
     "execution_count": 160,
     "metadata": {},
     "output_type": "execute_result"
    }
   ],
   "source": [
    "\n"
   ]
  },
  {
   "cell_type": "code",
   "execution_count": 112,
   "metadata": {
    "collapsed": false
   },
   "outputs": [
    {
     "data": {
      "text/plain": [
       "34.0"
      ]
     },
     "execution_count": 112,
     "metadata": {},
     "output_type": "execute_result"
    }
   ],
   "source": [
    "np.percentile(reports, 99)"
   ]
  },
  {
   "cell_type": "code",
   "execution_count": 54,
   "metadata": {
    "collapsed": false
   },
   "outputs": [
    {
     "data": {
      "text/plain": [
       "array([  1.00000000e+00,   4.51710000e+03,   9.03320000e+03,\n",
       "         1.35493000e+04,   1.80654000e+04,   2.25815000e+04,\n",
       "         2.70976000e+04,   3.16137000e+04,   3.61298000e+04,\n",
       "         4.06459000e+04,   4.51620000e+04,   4.96781000e+04,\n",
       "         5.41942000e+04,   5.87103000e+04,   6.32264000e+04,\n",
       "         6.77425000e+04,   7.22586000e+04,   7.67747000e+04,\n",
       "         8.12908000e+04,   8.58069000e+04,   9.03230000e+04])"
      ]
     },
     "execution_count": 54,
     "metadata": {},
     "output_type": "execute_result"
    }
   ],
   "source": [
    "bins"
   ]
  },
  {
   "cell_type": "code",
   "execution_count": 56,
   "metadata": {
    "collapsed": false
   },
   "outputs": [
    {
     "data": {
      "text/plain": [
       "<matplotlib.patches.Rectangle at 0x10f491b50>"
      ]
     },
     "execution_count": 56,
     "metadata": {},
     "output_type": "execute_result"
    }
   ],
   "source": [
    "patches[0]"
   ]
  },
  {
   "cell_type": "code",
   "execution_count": 74,
   "metadata": {
    "collapsed": false
   },
   "outputs": [
    {
     "data": {
      "text/plain": [
       "array([50758, 60678, 54359, 45497, 39132, 40961, 35604, 40809, 31620,\n",
       "       27785, 19713, 18735, 18635, 19714, 17315, 27485, 25216, 12836,\n",
       "       12986, 15643, 12856, 11014, 10655, 10107, 10009,  9961,  9910,\n",
       "        9731,  9737,  9726,  9712, 11344,  9710,  9640,  9618,  9595,\n",
       "       10149,  9527, 10852,  9519,  9495,  9341,  9358,  9215,  9195,\n",
       "        9155, 11140,  8769,  8734,  8548, 13667,  8405,  8329,  8096,\n",
       "       13095,  8078,  8070,  8023,  8008,  7954,  7952,  7949, 11000,\n",
       "        7883,  7823,  7704,  7682, 12748,  7658,  7641,  7621,  7591,\n",
       "        7588,  7580,  7551,  7479,  7479, 12293,  7401,  7357,  7280,\n",
       "       12711,  7241,  7542,  7229,  6956,  6841,  6749,  6427,  6253,\n",
       "        7895,  6193,  5915,  5828,  5722,  5697,  5582,  5437,  5320,  6002])"
      ]
     },
     "execution_count": 74,
     "metadata": {},
     "output_type": "execute_result"
    }
   ],
   "source": [
    "reports"
   ]
  },
  {
   "cell_type": "code",
   "execution_count": 81,
   "metadata": {
    "collapsed": false
   },
   "outputs": [
    {
     "data": {
      "image/png": "[encoded data removed]",
      "text/plain": [
       "<matplotlib.figure.Figure at 0x206989390>"
      ]
     },
     "metadata": {},
     "output_type": "display_data"
    }
   ],
   "source": [
    "data = array([50758, 60678, 54359, 45497, 39132, 40961, 35604, 40809, 31620,\n",
    "       27785, 19713, 18735, 18635, 19714, 17315, 27485, 25216, 12836,\n",
    "       12986, 15643, 12856, 11014, 10655, 10107, 10009,  9961,  9910,\n",
    "        9731,  9737,  9726,  9712, 11344,  9710,  9640,  9618,  9595,\n",
    "       10149,  9527, 10852,  9519,  9495,  9341,  9358,  9215,  9195,\n",
    "        9155, 11140,  8769,  8734,  8548, 13667,  8405,  8329,  8096,\n",
    "       13095,  8078,  8070,  8023,  8008,  7954,  7952,  7949, 11000,\n",
    "        7883,  7823,  7704,  7682, 12748,  7658,  7641,  7621,  7591,\n",
    "        7588,  7580,  7551,  7479,  7479, 12293,  7401,  7357,  7280,\n",
    "       12711,  7241,  7542,  7229,  6956,  6841,  6749,  6427,  6253,\n",
    "        7895,  6193,  5915,  5828,  5722,  5697,  5582,  5437,  5320,  6002])\n",
    "plt.hist(data, bins = 20, range=[min(data) - 10, max(data) + 10])\n",
    "# plt.xticks(arange(20))\n",
    "plt.title('Reports Distribution')\n",
    "plt.xlabel('# of Reports')\n",
    "plt.ylabel('Counts')\n",
    "plt.show()"
   ]
  },
  {
   "cell_type": "code",
   "execution_count": 104,
   "metadata": {
    "collapsed": false
   },
   "outputs": [
    {
     "name": "stdout",
     "output_type": "stream",
     "text": [
      "5320, 7590.25, 9278.0, 12397.5, 60678\n"
     ]
    }
   ],
   "source": [
    "print('{}, {}, {}, {}, {}'.format(min(data), np.percentile(data, 25), np.percentile(data, 50), np.percentile(data, 75), max(data)))\n"
   ]
  },
  {
   "cell_type": "code",
   "execution_count": 127,
   "metadata": {
    "collapsed": false
   },
   "outputs": [
    {
     "data": {
      "image/png": "[encoded data removed]",
      "text/plain": [
       "<matplotlib.figure.Figure at 0x1f93b5890>"
      ]
     },
     "metadata": {},
     "output_type": "display_data"
    }
   ],
   "source": [
    "reports_large = array(dshield.filter(lambda s: not s.startswith('#')).map(lambda s: int(s.split(',')[4])).filter(lambda s: s > 0).collect())\n",
    "reports_large.size\n",
    "counts, bins, patches = plt.hist(reports_large, bins = 30, range=[min(reports_large), max(reports_large)])\n",
    "plt.yscale('log')\n",
    "plt.title('Reports Distribution')\n",
    "plt.xlabel('# of Reports')\n",
    "plt.ylabel('Counts')\n",
    "plt.show()"
   ]
  },
  {
   "cell_type": "code",
   "execution_count": 168,
   "metadata": {
    "collapsed": false,
    "scrolled": true
   },
   "outputs": [
    {
     "data": {
      "image/png": "[encoded data removed]",
      "text/plain": [
       "<matplotlib.figure.Figure at 0x1edd06d10>"
      ]
     },
     "metadata": {},
     "output_type": "display_data"
    }
   ],
   "source": [
    "attack_ip = array(dshield.filter(lambda s: not s.startswith('#')).filter(lambda s: (int(s.split(',')[3]) / int(s.split(',')[4])) > 0).map(lambda s: int(s.split(',')[3]) / int(s.split(',')[4])).collect())\n",
    "plt.hist(attack_ip, bins = 40, range=[min(attack_ip), max(attack_ip)])\n",
    "# # plt.yscale('log')\n",
    "plt.title('Reports Distribution')\n",
    "plt.xlabel('# of Reports / IP')\n",
    "plt.ylabel('# of IP')\n",
    "plt.show()"
   ]
  },
  {
   "cell_type": "code",
   "execution_count": 152,
   "metadata": {
    "collapsed": false
   },
   "outputs": [
    {
     "data": {
      "text/plain": [
       "11.0"
      ]
     },
     "execution_count": 152,
     "metadata": {},
     "output_type": "execute_result"
    }
   ],
   "source": [
    "attack_ip = array(dshield.filter(lambda s: not s.startswith('#')).map(lambda s: int(s.split(',')[3]) / int(s.split(',')[4])).collect())\n",
    "np.percentile(attack_ip, 99)"
   ]
  },
  {
   "cell_type": "code",
   "execution_count": 151,
   "metadata": {
    "collapsed": false
   },
   "outputs": [
    {
     "data": {
      "text/plain": [
       "99.992933578712254"
      ]
     },
     "execution_count": 151,
     "metadata": {},
     "output_type": "execute_result"
    }
   ],
   "source": [
    "attack_ip = array(dshield.filter(lambda s: not s.startswith('#')).map(lambda s: int(s.split(',')[3]) / int(s.split(',')[4])).collect())\n",
    "stats.percentileofscore(attack_ip, 1000, 'rank')"
   ]
  },
  {
   "cell_type": "code",
   "execution_count": 180,
   "metadata": {
    "collapsed": false
   },
   "outputs": [
    {
     "data": {
      "text/plain": [
       "1619"
      ]
     },
     "execution_count": 180,
     "metadata": {},
     "output_type": "execute_result"
    }
   ],
   "source": [
    "dshield.filter(lambda s: not s.startswith('#')).filter(lambda s: (int(s.split(',')[3]) / int(s.split(',')[4])) > 50).map(lambda x : x.split(',')[3:5]).count()"
   ]
  },
  {
   "cell_type": "code",
   "execution_count": 184,
   "metadata": {
    "collapsed": false
   },
   "outputs": [
    {
     "data": {
      "text/plain": [
       "112"
      ]
     },
     "execution_count": 184,
     "metadata": {},
     "output_type": "execute_result"
    }
   ],
   "source": [
    "dshield.filter(lambda s: not s.startswith('#')).filter(lambda s: (int(s.split(',')[3]) / int(s.split(',')[4])) > 50 and int(s.split(',')[4]) > 1).count()"
   ]
  },
  {
   "cell_type": "code",
   "execution_count": null,
   "metadata": {
    "collapsed": true
   },
   "outputs": [],
   "source": []
  }
 ],
 "metadata": {
  "kernelspec": {
   "display_name": "Python 2",
   "language": "python",
   "name": "python2"
  },
  "language_info": {
   "codemirror_mode": {
    "name": "ipython",
    "version": 2
   },
   "file_extension": ".py",
   "mimetype": "text/x-python",
   "name": "python",
   "nbconvert_exporter": "python",
   "pygments_lexer": "ipython2",
   "version": "2.7.9"
  }
 },
 "nbformat": 4,
 "nbformat_minor": 0
}
